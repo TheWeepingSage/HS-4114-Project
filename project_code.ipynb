{
 "cells": [
  {
   "cell_type": "markdown",
   "id": "54a92ccf-3a18-470b-80c8-e88acc4ac350",
   "metadata": {
    "tags": []
   },
   "source": [
    "<div>\n",
    "<h1>HS 4114 Course Project: Analysing Rap Vocals</h1> \n",
    "</div>\n",
    "\n",
    "\n",
    "\n",
    "<br/>\n",
    "\n",
    "<p>\n",
    "\n",
    "</p> "
   ]
  },
  {
   "cell_type": "markdown",
   "id": "5817ce7b-1916-42e1-957f-19d8075fbd5a",
   "metadata": {},
   "source": [
    "## Section 1: tempogram stuff\n",
    "This section contains code for generating tempograms for the rap vocals"
   ]
  },
  {
   "cell_type": "code",
   "execution_count": 1,
   "id": "015ed50c-3e8c-4c3f-ab3e-59aeeab42f8a",
   "metadata": {},
   "outputs": [],
   "source": [
    "import os, sys\n",
    "import numpy as np\n",
    "import librosa\n",
    "from scipy import signal\n",
    "from scipy.interpolate import interp1d\n",
    "from matplotlib import pyplot as plt\n",
    "import matplotlib.gridspec as gridspec\n",
    "import IPython.display as ipd\n",
    "from numba import jit\n",
    "import soundfile\n",
    "import warnings\n",
    "warnings.filterwarnings('ignore')\n",
    "\n",
    "sys.path.append('..')\n",
    "import libfmp.b\n",
    "import libfmp.c2\n",
    "import libfmp.c3\n",
    "import libfmp.c6\n",
    "\n",
    "%matplotlib inline\n",
    "\n",
    "\n",
    "@jit(nopython=True)\n",
    "def compute_tempogram_fourier(x, Fs, N, H, Theta=np.arange(30, 601, 1)):\n",
    "    \"\"\"Compute Fourier-based tempogram [FMP, Section 6.2.2]\n",
    "\n",
    "    Notebook: C6/C6S2_TempogramFourier.ipynb\n",
    "\n",
    "    Args:\n",
    "        x (np.ndarray): Input signal\n",
    "        Fs (scalar): Sampling rate\n",
    "        N (int): Window length\n",
    "        H (int): Hop size\n",
    "        Theta (np.ndarray): Set of tempi (given in BPM) (Default value = np.arange(30, 601, 1))\n",
    "\n",
    "    Returns:\n",
    "        X (np.ndarray): Tempogram\n",
    "        T_coef (np.ndarray): Time axis (seconds)\n",
    "        F_coef_BPM (np.ndarray): Tempo axis (BPM)\n",
    "    \"\"\"\n",
    "    win = np.hanning(N)\n",
    "    N_left = N // 2\n",
    "    L = x.shape[0]\n",
    "    L_left = N_left\n",
    "    L_right = N_left\n",
    "    L_pad = L + L_left + L_right\n",
    "    # x_pad = np.pad(x, (L_left, L_right), 'constant')  # doesn't work with jit\n",
    "    x_pad = np.concatenate((np.zeros(L_left), x, np.zeros(L_right)))\n",
    "    t_pad = np.arange(L_pad)\n",
    "    M = int(np.floor(L_pad - N) / H) + 1\n",
    "    K = len(Theta)\n",
    "    X = np.zeros((K, M), dtype=np.complex_)\n",
    "\n",
    "    for k in range(K):\n",
    "        omega = (Theta[k] / 60) / Fs\n",
    "        exponential = np.exp(-2 * np.pi * 1j * omega * t_pad)\n",
    "        x_exp = x_pad * exponential\n",
    "        for n in range(M):\n",
    "            t_0 = n * H\n",
    "            t_1 = t_0 + N\n",
    "            X[k, n] = np.sum(win * x_exp[t_0:t_1])\n",
    "        T_coef = np.arange(M) * H / Fs\n",
    "        F_coef_BPM = Theta\n",
    "    return X, T_coef, F_coef_BPM\n",
    "\n"
   ]
  },
  {
   "cell_type": "code",
   "execution_count": 2,
   "id": "da6de11a-9432-40f8-82fe-d29027d2c008",
   "metadata": {},
   "outputs": [],
   "source": [
    "from ipywidgets import interact, fixed, FloatSlider, Select\n",
    "\n",
    "def plot_novelty_fn_and_tempogram(x, Fs, filename):\n",
    "    \"\"\"\n",
    "    start_time = start time for analysis in seconds\n",
    "    dur = duration for analysis in seconds\n",
    "    \"\"\"\n",
    "    nov, Fs_nov = libfmp.c6.compute_novelty_spectrum(x, Fs=Fs, N=2048, H=512, gamma=100, M=10, norm=True)\n",
    "    nov, Fs_nov = libfmp.c6.resample_signal(nov, Fs_in=Fs_nov, Fs_out=100)\n",
    "\n",
    "    N = 500 #corresponding to 5 seconds (Fs_nov = 100)\n",
    "    H = 10\n",
    "    Theta = np.arange(30, 601)\n",
    "    X, T_coef, F_coef_BPM = compute_tempogram_fourier(nov, Fs_nov, N=N, H=H, Theta=Theta)\n",
    "    tempogram = np.abs(X)\n",
    "\n",
    "    fig, ax = plt.subplots(2, 2, gridspec_kw={'width_ratios': [1, 0.02], \n",
    "                                              'height_ratios': [1, 2]}, figsize=(8,5))        \n",
    "    libfmp.b.plot_signal(nov, Fs_nov, ax=ax[0,0], color='k', title='Novelty function of ' + filename)\n",
    "    ax[0,1].set_axis_off()\n",
    "    libfmp.b.plot_matrix(tempogram, T_coef=T_coef, F_coef=F_coef_BPM, ax=[ax[1,0], ax[1,1]], \n",
    "                         title='Fourier tempogram of '+filename, ylabel='Tempo (BPM)', colorbar=True);\n",
    "    plt.tight_layout()"
   ]
  },
  {
   "cell_type": "code",
   "execution_count": 3,
   "id": "bece7b01-23d5-4f5b-9db5-6c7d66075321",
   "metadata": {},
   "outputs": [],
   "source": [
    "def save_tempogram_spec(x, Fs, filename):\n",
    "    plot_novelty_fn_and_tempogram(x, Fs, filename)\n",
    "    plt.savefig('./output/images/tempograms/'+filename+'.png')"
   ]
  },
  {
   "cell_type": "code",
   "execution_count": 4,
   "id": "6d5cf4c8-8e0f-4e0e-b108-7a97f59a7672",
   "metadata": {},
   "outputs": [],
   "source": [
    "songs = [\"candyshop\", \"bigpoppa\", \"mynameis\", \"stilldre\", \"whatsmyname\"]\n",
    "songs_with_bg = [songs[i] + \".mp3\" for i in range(len(songs))]\n",
    "songs_acapella = [songs[i] + \"_acapella.mp3\" for i in range(len(songs))]\n",
    "clips_start_1 = [14, 22, 23, 18, 24]\n",
    "clips_start_2 = [103, 136, 69, 120, 124]"
   ]
  },
  {
   "cell_type": "code",
   "execution_count": null,
   "id": "3bcb0217-d2fd-45fe-b11c-edccfecf8c8b",
   "metadata": {},
   "outputs": [],
   "source": [
    "for i_song, song in enumerate(songs):\n",
    "    fn_wav_bg = os.path.join('.', 'music', songs_with_bg[i_song])\n",
    "    x_bg_1, Fs = librosa.load(fn_wav_bg, offset= clips_start_1[i_song], duration=10)\n",
    "    fn_wav_acapella = os.path.join('.', 'music', songs_acapella[i_song])\n",
    "    x_acapella_1, Fs = librosa.load(fn_wav_acapella, offset= clips_start_1[i_song], duration=10)\n",
    "    x_bg_2, Fs = librosa.load(fn_wav_bg, offset= clips_start_2[i_song], duration=10)\n",
    "    x_acapella_2, Fs = librosa.load(fn_wav_acapella, offset= clips_start_2[i_song], duration=10)\n",
    "    save_tempogram_spec(x_bg_1, Fs, song+\"_bg_1\")\n",
    "    soundfile.write(\"./output/audio/\"+song+\"_bg_1.wav\", x_bg_1, Fs)\n",
    "    save_tempogram_spec(x_bg_2, Fs, song+\"_bg_2\")\n",
    "    soundfile.write(\"./output/audio/\"+song+\"_bg_2.wav\", x_bg_2, Fs)\n",
    "    save_tempogram_spec(x_acapella_1, Fs, song+\"_acapella_1\")\n",
    "    soundfile.write(\"./output/audio/\"+song+\"_acapella_1.wav\", x_acapella_1, Fs)\n",
    "    save_tempogram_spec(x_acapella_2, Fs, song+\"_acapella_2\")\n",
    "    soundfile.write(\"./output/audio/\"+song+\"_acapella_2.wav\", x_acapella_2, Fs)\n",
    "    print(song+ \" done\")"
   ]
  },
  {
   "cell_type": "markdown",
   "id": "ee87af29-f4ed-4779-9dd1-6e8fcf0d88a0",
   "metadata": {},
   "source": [
    "## Section 2: Chromagram stuff\n",
    "This section contains code to produce chromagrams for the song excerpts"
   ]
  },
  {
   "cell_type": "code",
   "execution_count": 38,
   "id": "942cf108-bc15-46cc-8c43-ccb5697d21ec",
   "metadata": {},
   "outputs": [],
   "source": [
    "import libfmp.c3\n",
    "eps = np.finfo(float).eps\n",
    "def plot_lf_spectrogram_and_chromagram(x, Fs, filename):\n",
    "    N, H = 4096, 512\n",
    "    X, T_coef, F_coef = libfmp.c2.stft_convention_fmp(x, Fs, N, H)\n",
    "    Y = np.abs(X) ** 2\n",
    "    Y_LF, F_coef_pitch = libfmp.c3.compute_spec_log_freq(Y, Fs, N)\n",
    "    C = libfmp.c3.compute_chromagram(Y_LF)\n",
    "\n",
    "    fig, ax = plt.subplots(2, 2, gridspec_kw={'width_ratios': [1, 0.02], \n",
    "                                              'height_ratios': [3, 2]}, figsize=(8, 5))  \n",
    "\n",
    "    libfmp.b.plot_matrix(10 * np.log10(eps + Y_LF), Fs=Fs/H, ax=[ax[0,0], ax[0,1]], \n",
    "            ylim=[55,92], clim=[0, 50], title='Log-frequency spectrogram of '+filename, \n",
    "            ylabel='Frequency (pitch)', colorbar=True, cbar_label='Magnitude (dB)');\n",
    "\n",
    "    libfmp.b.plot_chromagram(10 * np.log10(eps + C), Fs=Fs/H, ax=[ax[1,0], ax[1,1]],  \n",
    "            chroma_yticks = [0,4,7,11], clim=[10, 50], title='Chromagram of ' + filename, \n",
    "            ylabel='Chroma', colorbar=True, cbar_label='Magnitude (dB)');\n",
    "\n",
    "    plt.tight_layout()\n",
    "    \n",
    "def compute_pcd(x, Fs):\n",
    "    N, H = 4096, 512\n",
    "    X, T_coef, F_coef = libfmp.c2.stft_convention_fmp(x, Fs, N, H)\n",
    "    Y = np.abs(X) ** 2\n",
    "    Y_LF, F_coef_pitch = libfmp.c3.compute_spec_log_freq(Y, Fs, N)\n",
    "    C = libfmp.c3.compute_chromagram(Y_LF)\n",
    "    PCD = np.mean(C, axis=1)\n",
    "    PCD = PCD/sum(PCD)\n",
    "    return PCD"
   ]
  },
  {
   "cell_type": "code",
   "execution_count": 8,
   "id": "acb96fee-2f4e-4969-9d6a-326de8f83824",
   "metadata": {},
   "outputs": [],
   "source": [
    "def save_chromagram_spec(x, Fs, filename):\n",
    "    plot_lf_spectrogram_and_chromagram(x, Fs, filename)\n",
    "    plt.savefig('./output/images/chromagrams/'+filename+'.png')"
   ]
  },
  {
   "cell_type": "code",
   "execution_count": null,
   "id": "163dafb0-f981-40f6-b70a-4341bb5b238d",
   "metadata": {},
   "outputs": [],
   "source": [
    "for i_song, song in enumerate(songs):\n",
    "    fn_wav_acapella = os.path.join('.', 'music', songs_acapella[i_song])\n",
    "    x_acapella_1, Fs = librosa.load(fn_wav_acapella, offset= clips_start_1[i_song], duration=10)\n",
    "    x_acapella_2, Fs = librosa.load(fn_wav_acapella, offset= clips_start_2[i_song], duration=10)\n",
    "    save_chromagram_spec(x_acapella_1, Fs, song+\"_acapella_1\")\n",
    "    save_chromagram_spec(x_acapella_2, Fs, song+\"_acapella_2\")\n",
    "    print(song+ \" done\")"
   ]
  },
  {
   "cell_type": "code",
   "execution_count": 39,
   "id": "55a68326-0a1e-43e3-8d2f-cdadc502dbf8",
   "metadata": {},
   "outputs": [],
   "source": [
    "PCDs = np.zeros((len(songs)*2, 12))\n",
    "for i_song, song in enumerate(songs):\n",
    "    fn_wav_acapella = os.path.join('.', 'music', songs_acapella[i_song])\n",
    "    x_acapella_1, Fs = librosa.load(fn_wav_acapella, offset= clips_start_1[i_song], duration=10)\n",
    "    x_acapella_2, Fs = librosa.load(fn_wav_acapella, offset= clips_start_2[i_song], duration=10)\n",
    "    PCDs[2*i_song,:] = compute_pcd(x_acapella_1, Fs)\n",
    "    PCDs[2*i_song+1, :] = compute_pcd(x_acapella_2, Fs)"
   ]
  },
  {
   "cell_type": "code",
   "execution_count": 53,
   "id": "4f6c7334-3910-4375-9491-a3d0d5a2a3b8",
   "metadata": {},
   "outputs": [],
   "source": [
    "PCDs_speech = np.zeros((2, 12))\n",
    "x_speech_1, Fs = librosa.load(\"./music/speech.m4a\", offset=50, duration=10)\n",
    "x_speech_2, Fs = librosa.load(\"./music/speech.m4a\", offset=140, duration=10)\n",
    "\n",
    "PCD_speech = np.zeros(12)\n",
    "PCDs_speech[0] = compute_pcd(x_speech_1, Fs)\n",
    "PCDs_speech[1] = compute_pcd(x_speech_2, Fs)\n",
    "PCD_speech = (PCD_speech[0] + PCD_speech[1])/2\n",
    "\n",
    "x_pop_1, Fs = librosa.load(\"./music/herecomesthesunacapella.mp3\", duration=10)\n",
    "x_pop_2, Fs = librosa.load(\"./music/herecomesthesunacapella.mp3\", offset =34, duration=10)\n",
    "\n",
    "PCD_pop = np.zeros(12)\n",
    "PCDs_pop_1 = compute_pcd(x_pop_1, Fs)\n",
    "PCDs_pop_2 = compute_pcd(x_pop_2, Fs)\n",
    "PCD_pop = (PCDs_pop_1 + PCDs_pop_2)/2"
   ]
  },
  {
   "cell_type": "code",
   "execution_count": 49,
   "id": "bb0f2e92-1196-4c79-bb46-1670f912e706",
   "metadata": {},
   "outputs": [],
   "source": [
    "soundfile.write(\"./output/audio/speech_1.wav\", x_speech_1, Fs)\n",
    "soundfile.write(\"./output/audio/speech_2.wav\", x_speech_2, Fs)\n",
    "soundfile.write(\"./output/audio/pop_1.wav\", x_pop_1, Fs)\n",
    "soundfile.write(\"./output/audio/pop_2.wav\", x_pop_2, Fs)"
   ]
  },
  {
   "cell_type": "code",
   "execution_count": null,
   "id": "4275cdee-89b8-4df6-a16f-fbafb013d157",
   "metadata": {},
   "outputs": [],
   "source": [
    "save_chromagram_spec(x_speech_1, Fs, \"speech_1\")\n",
    "save_chromagram_spec(x_speech_2, Fs, \"speech_2\")\n",
    "save_chromagram_spec(x_pop_1, Fs, \"pop_1\")\n",
    "save_chromagram_spec(x_pop_2, Fs, \"pop_2\")"
   ]
  },
  {
   "cell_type": "code",
   "execution_count": null,
   "id": "69b2260d-f4f5-4013-8fbf-7203bc9a7002",
   "metadata": {},
   "outputs": [],
   "source": [
    "save_tempogram_spec(x_speech_1, Fs, \"speech_1\")\n",
    "save_tempogram_spec(x_speech_2, Fs, \"speech_2\")\n",
    "save_tempogram_spec(x_pop_1, Fs, \"pop_1\")\n",
    "save_tempogram_spec(x_pop_2, Fs, \"pop_2\")"
   ]
  },
  {
   "cell_type": "code",
   "execution_count": 83,
   "id": "7ad84938-b0cf-4cca-a6ab-5a7a871ea12f",
   "metadata": {},
   "outputs": [],
   "source": [
    "distances = np.zeros((10, 2))\n",
    "for i_PCD in range(len(PCDs)):\n",
    "    distances[i_PCD, 0] = np.linalg.norm(PCDs[i_PCD, :] - np.mean(PCDs[i_PCD, :]) - (PCDs_speech[0]+PCDs_speech[1])/2 + np.mean((PCDs_speech[0]+PCDs_speech[1])/2))\n",
    "    distances[i_PCD, 1] = np.linalg.norm(PCDs[i_PCD, :] - np.mean(PCDs[i_PCD, :]) - (PCDs_pop_1+PCDs_pop_2)/2 + np.mean((PCDs_pop_1+PCDs_pop_2)/2))"
   ]
  },
  {
   "cell_type": "code",
   "execution_count": 106,
   "id": "813515db-213d-4036-b3ae-1d09a5ca0868",
   "metadata": {},
   "outputs": [],
   "source": [
    "distances = np.zeros((10, 4))\n",
    "for i_PCD in range(len(PCDs)):\n",
    "    distances[i_PCD, 0] = np.linalg.norm(PCDs[i_PCD, :] - PCDs_speech[0])\n",
    "    distances[i_PCD, 1] = np.linalg.norm(PCDs[i_PCD, :] - PCDs_speech[1])\n",
    "    distances[i_PCD, 2] = np.linalg.norm(PCDs[i_PCD, :] - PCDs_pop_1)\n",
    "    distances[i_PCD, 3] = np.linalg.norm(PCDs[i_PCD, :] - PCDs_pop_2)"
   ]
  },
  {
   "cell_type": "code",
   "execution_count": 107,
   "id": "70ecfd89-4598-4c85-b502-1db5fd335e89",
   "metadata": {},
   "outputs": [
    {
     "data": {
      "text/plain": [
       "Text(0, 0.5, '$l_2^2$ distance')"
      ]
     },
     "execution_count": 107,
     "metadata": {},
     "output_type": "execute_result"
    },
    {
     "data": {
      "image/png": "[encoded data removed]",
      "text/plain": [
       "<Figure size 432x288 with 1 Axes>"
      ]
     },
     "metadata": {
      "needs_background": "light"
     },
     "output_type": "display_data"
    }
   ],
   "source": [
    "plt.boxplot(distances, labels=[\"speech_1\", \"speech_2\", \"pop_1\", \"pop_2\"])\n",
    "plt.ylabel(\"$l_2^2$ distance\")"
   ]
  },
  {
   "cell_type": "code",
   "execution_count": 93,
   "id": "1dead070-0d0b-4b0d-8a20-a930bcba5a8e",
   "metadata": {},
   "outputs": [],
   "source": [
    "import scipy.stats\n",
    "\n",
    "entropies = np.zeros((10))\n",
    "for i_PCD in range(len(PCDs)):\n",
    "    entropies[i_PCD] = scipy.stats.entropy(PCDs[i_PCD, :])"
   ]
  },
  {
   "cell_type": "code",
   "execution_count": 103,
   "id": "b63e5eb4-6b36-4b0e-9b56-32076560ffe1",
   "metadata": {},
   "outputs": [
    {
     "data": {
      "text/plain": [
       "<matplotlib.legend.Legend at 0x7f93398e54d0>"
      ]
     },
     "execution_count": 103,
     "metadata": {},
     "output_type": "execute_result"
    },
    {
     "data": {
      "image/png": "[encoded data removed]",
      "text/plain": [
       "<Figure size 432x288 with 1 Axes>"
      ]
     },
     "metadata": {
      "needs_background": "light"
     },
     "output_type": "display_data"
    }
   ],
   "source": [
    "plt.boxplot(entropies, labels=[\"Rap\"])\n",
    "plt.ylabel(\"Entropy\")\n",
    "plt.hlines(scipy.stats.entropy((PCDs_speech[1])), 0.7, 1.3, label=\"speech_2\", linestyle=\"dashed\", colors= \"red\")\n",
    "plt.hlines(scipy.stats.entropy((PCDs_pop_2)), 0.7, 1.3, linestyle=\"dashed\", label=\"pop_2\", colors = \"blue\")\n",
    "plt.hlines(scipy.stats.entropy((PCDs_speech[0])), 0.7, 1.3, label=\"speech_1\", linestyle=\"dashed\", colors= \"black\")\n",
    "plt.hlines(scipy.stats.entropy((PCDs_pop_1)), 0.7, 1.3, linestyle=\"dashed\", label=\"pop_1\", colors = \"green\")\n",
    "plt.legend()"
   ]
  }
 ],
 "metadata": {
  "kernelspec": {
   "display_name": "Python 3",
   "language": "python",
   "name": "python3"
  },
  "language_info": {
   "codemirror_mode": {
    "name": "ipython",
    "version": 3
   },
   "file_extension": ".py",
   "mimetype": "text/x-python",
   "name": "python",
   "nbconvert_exporter": "python",
   "pygments_lexer": "ipython3",
   "version": "3.7.16"
  }
 },
 "nbformat": 4,
 "nbformat_minor": 5
}
