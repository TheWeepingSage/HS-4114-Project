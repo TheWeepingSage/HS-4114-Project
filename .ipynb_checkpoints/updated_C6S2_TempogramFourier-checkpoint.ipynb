{
 "cells": [
  {
   "cell_type": "markdown",
   "metadata": {},
   "source": [
    "<div>\n",
    "<a href=\"http://www.music-processing.de/\"><img style=\"float:left;\" src=\"../data/FMP_Teaser_Cover.png\" width=40% alt=\"FMP\"></a>\n",
    "<a href=\"https://www.audiolabs-erlangen.de\"><img src=\"../data/Logo_AudioLabs_Long.png\" width=59% style=\"float: right;\" alt=\"AudioLabs\"></a>\n",
    "</div>"
   ]
  },
  {
   "cell_type": "markdown",
   "metadata": {},
   "source": [
    "<div>\n",
    "<a href=\"../C6/C6.html\"><img src=\"../data/C6_nav.png\" width=\"100\"  style=\"float:right;\" alt=\"C6\"></a>\n",
    "<h1>Fourier Tempogram</h1> \n",
    "</div>\n",
    "\n",
    "<br/>\n",
    "\n",
    "<p>\n",
    "Following Section 6.2.2 of <a href=\"http://www.music-processing.de/\">[Müller, FMP, Springer 2015]</a>, we show in this notebook how to compute a tempogram using a variant of a short-time Fourier transform. A MATLAB implementation of this approach can be found in the  <a href=\"https://www.audiolabs-erlangen.de/resources/MIR/tempogramtoolbox\">Tempogram Toolbox</a>.\n",
    "    \n",
    "<ul>\n",
    "<li><span style=\"color:black\">\n",
    "Peter Grosche and Meinard Müller: <a href=\"https://www.audiolabs-erlangen.de/fau/professor/mueller/publications/2011_GroscheMueller_TempogramToolbox_ISMIR-LateBreaking.pdf\"><strong>Tempogram Toolbox: MATLAB implementations for tempo and pulse analysis of music recordings.</strong></a> Late-Breaking and Demo Session of the International Conference on Music Information Retrieval (ISMIR), Miami, USA, 2011. \n",
    "<br>\n",
    " <a href=\"https://www.audiolabs-erlangen.de/resources/MIR/tempogramtoolbox\">Website of the Tempogram Toolbox.</a>    \n",
    "<br>\n",
    "<a type=\"button\" class=\"btn btn-default btn-xs\" target=\"_blank\" href=\"../data/bibtex/FMP_bibtex_GroscheM11_TempogramToolbox_ISMIR-lateBreaking.txt\"> Bibtex </a>\n",
    "</span></li>\n",
    "</ul>        \n",
    "</p> "
   ]
  },
  {
   "cell_type": "markdown",
   "metadata": {},
   "source": [
    "##  Definition\n",
    "\n",
    "We assume that we are given a discrete-time [novelty function](../C6/C6S1_OnsetDetection.html) $\\Delta:\\mathbb{Z}\\to\\mathbb{R}$ in which peaks indicate note onset candidates. The idea of Fourier analysis is to detect local periodicities in novelty curve by comparing it with windowed sinusoids. A high correlation of a local section of $\\Delta$ with a windowed sinusoid indicates a periodicity of the sinusoid's frequency (given a suitable phase). This correlation (along with the phase) can be computed using a short-time Fourier transform. To this end, we fix a window function $w:\\mathbb{Z}\\to\\mathbb{R}$ of finite length centered at $n=0$ (e.g., a sampled Hann window). Then, for a frequency parameter $\\omega\\in\\mathbb{R}_{\\geq 0}$ and time parameter $n\\in\\mathbb{Z}$, the complex Fourier coefficient $\\mathcal{F}(n,\\omega)$ is defined by\n",
    "\n",
    "\\begin{equation}\n",
    "  \\mathcal{F}(n,\\omega) := \\sum_{m\\in\\mathbb{Z}} \n",
    "\t\\Delta(m)\\overline{w}(m-n)\\mathrm{exp}(-2\\pi i\\omega m).\n",
    "\\end{equation}\n",
    "\n",
    "This definition is similar to a [discrete short time Fourier transform](../C2/C2_STFT-Basic.html) when using a hop size $H=1$. Converting frequency to tempo values, we define the (discrete) **Fourier tempogram** $\\mathcal{T}^\\mathrm{F}: \\mathbb{Z} \\times \\Theta \\to \\mathbb{R}_{\\geq 0}$ by\n",
    "\n",
    "\\begin{equation}\n",
    "\\label{eq:BeatTempo:TempoAna:RepFourier:tempogramF}\n",
    "\t\\mathcal{T}^\\mathrm{F}(n,\\tau) := |\\mathcal{F}(n,\\tau/60)|.\n",
    "\\end{equation}\n",
    "\n",
    "For practical applications, $\\mathcal{T}^\\mathrm{F}$ is computed only for a small number of tempo parameters. For example, one may choose the set $\\Theta=[30:600]$ covering the (integer) musical tempi between $30$ and $600~\\mathrm{BPM}$. The bounds are motivated by the assumption that only musical events showing a temporal separation between roughly $100~\\mathrm{msec}$ ($600~\\mathrm{BPM}$) and $2~\\mathrm{sec}$ ($30~\\mathrm{BPM}$) contribute to the perception of tempo. Depending on the respective application and the nature of the music recording, a window size corresponding to $4$ to $12~\\mathrm{sec}$ of audio is a reasonable range. Furthermore the feature rate of the resulting tempogram may be adjusted by introducing a hop size parameter $H$."
   ]
  },
  {
   "cell_type": "markdown",
   "metadata": {},
   "source": [
    "## Tempo Resolution\n",
    "\n",
    "\n",
    "Using a tempo set like $\\Theta=[30:600]$ requires a spectral analysis of high resolution&mdash;in particular in the lower frequency range. As an example, assume that the input novelty function $\\Delta$ has a feature sampling rate $F_\\mathrm{s}^\\Delta = 100~\\mathrm{Hz}$ and that the length of the window $w$ is $N=1000$ (covering $10$ seconds of the novelty function $\\Delta$). Then, simply applying a DFT of size $N$, would yield Fourier coefficients corresponding to the [physical frequencies](../C2/C2_STFT-Basic.html)\n",
    "\n",
    "\\begin{equation}\n",
    "         \\omega = F_\\mathrm{coef}(k) := \\frac{k\\cdot F_\\mathrm{s}^\\Delta}{N} = k\\cdot 0.1 ~\\mathrm{Hz}\n",
    "\\end{equation}\n",
    "\n",
    "for $k\\in[0:500]$, which corresponds to the tempi $\\tau= k\\cdot 6~\\mathrm{BPM}$. In other words, the DFT would yield a tempo resolution of $6~\\mathrm{BPM}$ with tempo estimates ranging from $\\tau=0$ up to $\\tau=3000~\\mathrm{BPM}$. If one is interested in a particular tempo set like $\\Theta=[30:600]$, only a small fraction of the Fourier coefficients ($k\\in[5:100]$) are needed. Furthermore, the tempo resolution of $6~\\mathrm{BPM}$ is not sufficient. Therefore, a [straightforward STFT based on the DFT](../C2/C2_STFT-Basic.html) (see Section 2.1.4 of <a href=\"http://www.music-processing.de/\">[Müller, FMP, Springer 2015]</a>) may not be suitable. One alternative is to compute the required Fourier coefficients individually (without using the DFT). Even though this cannot be done via the [FFT algorithm](../C2/C2_DFT-FFT.html), the computational complexity may still be reasonable since only a relatively small number of Fourier coefficients (corresponding to the tempo set $\\Theta$) need to be computed. This is the strategy we follow in the remainder of this notebook."
   ]
  },
  {
   "cell_type": "markdown",
   "metadata": {},
   "source": [
    "## Implementation\n",
    "\n",
    "In the following, we provide an implementation that is close to the formula\n",
    "\n",
    "\\begin{equation}\n",
    "  \\mathcal{F}(n,\\omega) = \\sum_{m\\in\\mathbb{Z}} \\Delta(m)\\overline{w}(m-n)\\mathrm{exp}(-2\\pi i \\omega m).\n",
    "\\end{equation}\n",
    "\n",
    "The novelty function $\\Delta$ is assumed to have length $L\\in\\mathbb{N}$. As window function $w$, we choose a [Hann window](../C2/C2_STFT-Window.html) of length $N\\in\\mathbb{N}$, which is shifted by the hopsize $H\\in\\mathbb{N}$. Following the conventions of the FMP notebooks,  we use a [**centered view**](../C2/C2_STFT-Conventions.html), where the novelty function is zero-padded by half the window length. As a result, the first frame of $\\mathcal{F}$ indexed by $n=0$ corresponds to the physical time position $t=0~\\mathrm{sec}$. Note that the hopsize parameter $H$ reduces the frame rate of the tempogram to $F_\\mathrm{s}^\\Delta/H$. As input of our procedure, one may specify any finite set $\\Theta$ containing tempo values. Our algorithm has an outer loop iterating over $\\tau\\in\\Theta$. For each frequency $\\omega=\\tau/60$, the values $\\mathcal{F}(n,\\omega)$ are then computed in an inner loop iterating over the frame indices $n$. \n",
    "\n",
    "As an illustrating example, we use in the following a synthetic novelty function of $10$ seconds of duration. The curve consists of a click track, which has a tempo of $150~\\mathrm{BPM}$ in its first half and a tempo of $120~\\mathrm{BPM}$ in its second half."
   ]
  },
  {
   "cell_type": "code",
   "execution_count": 1,
   "metadata": {},
   "outputs": [
    {
     "ename": "ModuleNotFoundError",
     "evalue": "No module named 'libfmp'",
     "output_type": "error",
     "traceback": [
      "\u001b[0;31m---------------------------------------------------------------------------\u001b[0m",
      "\u001b[0;31mModuleNotFoundError\u001b[0m                       Traceback (most recent call last)",
      "\u001b[0;32m<ipython-input-1-88669d2f0eb4>\u001b[0m in \u001b[0;36m<module>\u001b[0;34m\u001b[0m\n\u001b[1;32m     10\u001b[0m \u001b[0;34m\u001b[0m\u001b[0m\n\u001b[1;32m     11\u001b[0m \u001b[0msys\u001b[0m\u001b[0;34m.\u001b[0m\u001b[0mpath\u001b[0m\u001b[0;34m.\u001b[0m\u001b[0mappend\u001b[0m\u001b[0;34m(\u001b[0m\u001b[0;34m'..'\u001b[0m\u001b[0;34m)\u001b[0m\u001b[0;34m\u001b[0m\u001b[0;34m\u001b[0m\u001b[0m\n\u001b[0;32m---> 12\u001b[0;31m \u001b[0;32mimport\u001b[0m \u001b[0mlibfmp\u001b[0m\u001b[0;34m.\u001b[0m\u001b[0mb\u001b[0m\u001b[0;34m\u001b[0m\u001b[0;34m\u001b[0m\u001b[0m\n\u001b[0m\u001b[1;32m     13\u001b[0m \u001b[0;32mimport\u001b[0m \u001b[0mlibfmp\u001b[0m\u001b[0;34m.\u001b[0m\u001b[0mc2\u001b[0m\u001b[0;34m\u001b[0m\u001b[0;34m\u001b[0m\u001b[0m\n\u001b[1;32m     14\u001b[0m \u001b[0;32mimport\u001b[0m \u001b[0mlibfmp\u001b[0m\u001b[0;34m.\u001b[0m\u001b[0mc3\u001b[0m\u001b[0;34m\u001b[0m\u001b[0;34m\u001b[0m\u001b[0m\n",
      "\u001b[0;31mModuleNotFoundError\u001b[0m: No module named 'libfmp'"
     ]
    }
   ],
   "source": [
    "import os, sys\n",
    "import numpy as np\n",
    "import librosa\n",
    "from scipy import signal\n",
    "from scipy.interpolate import interp1d\n",
    "from matplotlib import pyplot as plt\n",
    "import matplotlib.gridspec as gridspec\n",
    "import IPython.display as ipd\n",
    "from numba import jit\n",
    "\n",
    "sys.path.append('..')\n",
    "import libfmp.b\n",
    "import libfmp.c2\n",
    "import libfmp.c3\n",
    "import libfmp.c6\n",
    "\n",
    "%matplotlib inline\n",
    "\n",
    "\n",
    "@jit(nopython=True)\n",
    "def compute_tempogram_fourier(x, Fs, N, H, Theta=np.arange(30, 601, 1)):\n",
    "    \"\"\"Compute Fourier-based tempogram [FMP, Section 6.2.2]\n",
    "\n",
    "    Notebook: C6/C6S2_TempogramFourier.ipynb\n",
    "\n",
    "    Args:\n",
    "        x (np.ndarray): Input signal\n",
    "        Fs (scalar): Sampling rate\n",
    "        N (int): Window length\n",
    "        H (int): Hop size\n",
    "        Theta (np.ndarray): Set of tempi (given in BPM) (Default value = np.arange(30, 601, 1))\n",
    "\n",
    "    Returns:\n",
    "        X (np.ndarray): Tempogram\n",
    "        T_coef (np.ndarray): Time axis (seconds)\n",
    "        F_coef_BPM (np.ndarray): Tempo axis (BPM)\n",
    "    \"\"\"\n",
    "    win = np.hanning(N)\n",
    "    N_left = N // 2\n",
    "    L = x.shape[0]\n",
    "    L_left = N_left\n",
    "    L_right = N_left\n",
    "    L_pad = L + L_left + L_right\n",
    "    # x_pad = np.pad(x, (L_left, L_right), 'constant')  # doesn't work with jit\n",
    "    x_pad = np.concatenate((np.zeros(L_left), x, np.zeros(L_right)))\n",
    "    t_pad = np.arange(L_pad)\n",
    "    M = int(np.floor(L_pad - N) / H) + 1\n",
    "    K = len(Theta)\n",
    "    X = np.zeros((K, M), dtype=np.complex_)\n",
    "\n",
    "    for k in range(K):\n",
    "        omega = (Theta[k] / 60) / Fs\n",
    "        exponential = np.exp(-2 * np.pi * 1j * omega * t_pad)\n",
    "        x_exp = x_pad * exponential\n",
    "        for n in range(M):\n",
    "            t_0 = n * H\n",
    "            t_1 = t_0 + N\n",
    "            X[k, n] = np.sum(win * x_exp[t_0:t_1])\n",
    "        T_coef = np.arange(M) * H / Fs\n",
    "        F_coef_BPM = Theta\n",
    "    return X, T_coef, F_coef_BPM\n",
    "\n",
    "Fs = 100\n",
    "L = 10*Fs\n",
    "x = np.zeros(L)\n",
    "peaks = np.concatenate((np.arange(40,L//2,40),np.arange(500,L,50)))\n",
    "x[peaks]=1\n",
    "\n",
    "N = 300 #corresponding to 3 seconds (Fs = 100)\n",
    "H = 10\n",
    "Theta = np.arange(50,410,10)\n",
    "\n",
    "X, T_coef, F_coef_BPM = compute_tempogram_fourier(x, Fs, N=N, H=H, Theta=Theta)\n",
    "tempogram = np.abs(X)\n",
    "#tempogram = libfmp.c3.normalize_feature_sequence(tempogram, norm='max')\n",
    "\n",
    "fig, ax = plt.subplots(2, 2, gridspec_kw={'width_ratios': [1, 0.05], \n",
    "                                          'height_ratios': [1, 2]}, figsize=(8, 5))        \n",
    "libfmp.b.plot_signal(x, Fs, ax=ax[0,0], color='k', title='Novelty function')\n",
    "ax[0,1].set_axis_off()\n",
    "libfmp.b.plot_matrix(tempogram, T_coef=T_coef, F_coef=F_coef_BPM, ax=[ax[1,0], ax[1,1]], \n",
    "                     title='Fourier tempogram', ylabel='Tempo (BPM)', colorbar=True);\n",
    "plt.tight_layout()"
   ]
  },
  {
   "cell_type": "markdown",
   "metadata": {},
   "source": [
    "## Interpretation \n",
    "\n",
    "The visualization of the Fourier tempogram $\\mathcal{T}^\\mathrm{F}$ reveals the dominant tempo over time. Indeed, there are high values for $\\tau=150~\\mathrm{BPM}$ in the first five seconds and high values for the tempo $\\tau=120~\\mathrm{BPM}$ the last five seconds. Being based on a Fourier analysis, an entry $\\mathcal{T}^\\mathrm{F}(n,\\tau)$ is obtained by locally comparing the novelty function $\\Delta$ in a neighborhood of $n$ with a windowed sinusoid that represents the tempo $\\tau$ (or the frequency $\\omega=\\tau/60$). In the following code cell, this kind of analysis is illustrated for various time-tempo pairs indicated as red points in the tempogram visualization. We will discuss in the [FMP notebook on predominant local pulse estimation](../C6/C6S3_PredominantLocalPulse.html) on how to compute the windowed sinusoids using the [angle of the complex Fourier coefficient](../C2/C2_DFT-Phase.html)."
   ]
  },
  {
   "cell_type": "code",
   "execution_count": null,
   "metadata": {},
   "outputs": [],
   "source": [
    "def compute_sinusoid_optimal(c, tempo, n, Fs, N, H):\n",
    "    \"\"\"Compute windowed sinusoid with optimal phase\n",
    "\n",
    "    Notebook: C6/C6S2_TempogramFourier.ipynb\n",
    "\n",
    "    Args:\n",
    "        c (complex): Coefficient of tempogram (c=X(k,n))\n",
    "        tempo (float): Tempo parameter corresponding to c (tempo=F_coef_BPM[k])\n",
    "        n (int): Frame parameter of c\n",
    "        Fs (scalar): Sampling rate\n",
    "        N (int): Window length\n",
    "        H (int): Hop size\n",
    "\n",
    "    Returns:\n",
    "        kernel (np.ndarray): Windowed sinusoid\n",
    "        t_kernel (np.ndarray): Time axis (samples) of kernel\n",
    "        t_kernel_sec (np.ndarray): Time axis (seconds) of kernel\n",
    "    \"\"\"\n",
    "    win = np.hanning(N)\n",
    "    N_left = N // 2\n",
    "    omega = (tempo / 60) / Fs\n",
    "    t_0 = n * H\n",
    "    t_1 = t_0 + N\n",
    "    phase = - np.angle(c) / (2 * np.pi)\n",
    "    t_kernel = np.arange(t_0, t_1)\n",
    "    kernel = win * np.cos(2 * np.pi * (t_kernel*omega - phase))\n",
    "    t_kernel_sec = (t_kernel - N_left) / Fs\n",
    "    return kernel, t_kernel, t_kernel_sec\n",
    "\n",
    "def plot_signal_kernel(x, t_x, kernel, t_kernel, xlim=None, figsize=(8, 2), title=None):\n",
    "    \"\"\"Visualize signal and local kernel\n",
    "\n",
    "    Notebook: C6/C6S2_TempogramFourier.ipynb\n",
    "\n",
    "    Args:\n",
    "        x: Signal\n",
    "        t_x: Time axis of x (given in seconds)\n",
    "        kernel: Local kernel\n",
    "        t_kernel: Time axis of kernel (given in seconds)\n",
    "        xlim: Limits for x-axis (Default value = None)\n",
    "        figsize: Figure size (Default value = (8, 2))\n",
    "        title: Title of figure (Default value = None)\n",
    "\n",
    "    Returns:\n",
    "        fig: Matplotlib figure handle\n",
    "    \"\"\"\n",
    "    if xlim is None:\n",
    "        xlim = [t_x[0], t_x[-1]]\n",
    "    fig = plt.figure(figsize=figsize)\n",
    "    plt.plot(t_x, x, 'k')\n",
    "    plt.plot(t_kernel, kernel, 'r')\n",
    "    plt.title(title)\n",
    "    plt.xlim(xlim)\n",
    "    plt.tight_layout()\n",
    "    return fig\n",
    "\n",
    "t_x = np.arange(x.shape[0])/Fs\n",
    "coef_n = [20, 30, 70]\n",
    "coef_k = [11, 5, 19]\n",
    "\n",
    "fig, ax, im = libfmp.b.plot_matrix(tempogram, \n",
    "                T_coef=T_coef, F_coef=F_coef_BPM, figsize=(9,3),\n",
    "                title='Fourier tempogram', ylabel='Tempo (BPM)', colorbar=True);\n",
    "ax[0].plot(T_coef[coef_n],F_coef_BPM[coef_k],'ro')\n",
    "\n",
    "for i in range(len(coef_k)):\n",
    "    k = coef_k[i]\n",
    "    n = coef_n[i]\n",
    "    tempo = F_coef_BPM[k]\n",
    "    time = T_coef[n]\n",
    "    corr = np.abs(X[k,n])\n",
    "    kernel, t_kernel, t_kernel_sec = compute_sinusoid_optimal(X[k,n], \n",
    "                        F_coef_BPM[k], n, Fs, N, H)\n",
    "    title=r'Windowed sinusoid (t = %0.1f sec, $\\tau$ = %0.0f BPM, corr = %0.2f)'%(time, tempo, corr)\n",
    "    fig = plot_signal_kernel(x, t_x, kernel, t_kernel_sec, title=title)\n",
    "plt.tight_layout()"
   ]
  },
  {
   "cell_type": "markdown",
   "metadata": {},
   "source": [
    "For the first time-tempo pair ($t=2~\\mathrm{sec}$, $\\tau=160~\\mathrm{BPM}$), the positive parts of the windowed sinusoid nicely align with the impulse-like peaks of the novelty function $\\Delta$, whereas the negative parts of the sinusoid fall into the zero-regions of $\\Delta$. As a result, there is a high correlation between the windowed sinusoid \n",
    "and $\\Delta$, which leads to a large coefficient $\\mathcal{T}^\\mathrm{F}(n,\\tau)$. \n",
    "\n",
    "For the second pair ($t=3$, $\\tau=100$), the sinusoid leads to a small coefficient. In this case, some peaks of $\\Delta$ fall into positive parts of the sinusoid, whereas other peaks fall into the negative parts of the sinusoid. Because of the resulting cancellations, the overall correlation between $\\Delta$ and the sinusoid is small. \n",
    "\n",
    "Finally, the third pair ($t=7$, $\\tau=240$) illustrates that one obtains a high correlation when using a sinusoid that represents twice the main tempo. In this case, the peaks of $\\Delta$ are aligned with every second positive part of the sinusoid, whereas all other parts of the sinusoid fall into the zero-regions of $\\Delta$. This discussion shows that a Fourier tempogram generally indicates **tempo harmonics**, but suppresses **tempo subharmonics**, see also the [FMP notebook on tempo and beat](../C6/C6S2_TempoBeat.html)."
   ]
  },
  {
   "cell_type": "markdown",
   "metadata": {},
   "source": [
    "## Example: Shostakovich\n",
    "\n",
    "In the following example, we consider an excerpt of a recording of the Waltz No. 2 by Dimitri Shostakovich's Suite for Variety Orchestra No. 1. The score shows a piano-reduced version of the excerpt. \n",
    "\n",
    "<img src=\"../data/C6/FMP_C6_F07_Shostakovich_Waltz-02-Section_Score.png\" width=\"400px\" align=\"left\" alt=\"FMP_C6_F07_Shostakovich_Waltz-02-Section_Score.png\">\n",
    "\n",
    "<br clear=\"all\" />\n",
    "\n",
    "<audio src=\"../data/C6/FMP_C6_F07_Shostakovich_Waltz-02-Section_IncreasingTempo.mp3\" type=\"audio/mpeg\" controls=\"controls\"></audio>\n",
    "\n",
    "We start with a [spectral-based novelty function](../C6/C6S1_NoveltySpectral.html) resampled to $F_\\mathrm{s}^\\Delta = 100~\\mathrm{Hz}$. Furthermore, we use a window size corresponding to $5$ seconds ($N=500$) and a tempo set $\\Theta=[30:600]$ having a resolution of $1~\\mathrm{BPM}$.  Using a hopsize parameter $H=10$, the feature rate of the resulting tempogram will be $10~\\mathrm{Hz}$."
   ]
  },
  {
   "cell_type": "code",
   "execution_count": null,
   "metadata": {
    "scrolled": true
   },
   "outputs": [],
   "source": [
    "#fn_wav = os.path.join('..', 'data', 'C6', 'FMP_C6_F11_ClickTrack-BPM170-200.wav')\n",
    "fn_wav = os.path.join('.', 'FMP_C6_F07_Shostakovich_Waltz-02-Section_IncreasingTempo.wav')\n",
    "# fn_wav = os.path.join('.', 'FMP_C6_Audio_Brahms_HungarianDances-05-A1A2B1B2_Ormandy.wav')\n",
    "Fs = 22050\n",
    "x, Fs = librosa.load(fn_wav, Fs) \n",
    "print(f\"sample rate = {Fs}\")\n",
    "print(f\"x.shape = {x.shape}\")\n",
    "print(f\"duration = {x.shape[0] / Fs:.2f} s\")\n",
    "ipd.Audio(data=x, rate=Fs)"
   ]
  },
  {
   "cell_type": "code",
   "execution_count": null,
   "metadata": {},
   "outputs": [],
   "source": [
    "nov, Fs_nov = libfmp.c6.compute_novelty_spectrum(x, Fs=Fs, N=2048, H=512, gamma=100, M=10, norm=True)\n",
    "nov, Fs_nov = libfmp.c6.resample_signal(nov, Fs_in=Fs_nov, Fs_out=100)\n",
    "\n",
    "N = 500 #corresponding to 5 seconds (Fs_nov = 100)\n",
    "H = 10\n",
    "Theta = np.arange(30, 601)\n",
    "X, T_coef, F_coef_BPM = compute_tempogram_fourier(nov, Fs_nov, N=N, H=H, Theta=Theta)\n",
    "tempogram = np.abs(X)\n",
    "\n",
    "fig, ax = plt.subplots(2, 2, gridspec_kw={'width_ratios': [1, 0.05], \n",
    "                                          'height_ratios': [1, 2]}, figsize=(8,5))        \n",
    "libfmp.b.plot_signal(nov, Fs_nov, ax=ax[0,0], color='k', title='Novelty function')\n",
    "ax[0,1].set_axis_off()\n",
    "libfmp.b.plot_matrix(tempogram, T_coef=T_coef, F_coef=F_coef_BPM, ax=[ax[1,0], ax[1,1]], \n",
    "                     title='Fourier tempogram', ylabel='Tempo (BPM)', colorbar=True);\n",
    "plt.tight_layout()"
   ]
  },
  {
   "cell_type": "markdown",
   "metadata": {},
   "source": [
    "As the Fourier tempogram $\\mathcal{T}^\\mathrm{F}$ reveals, the dominant tempo of this excerpt is between $200$ and $300~\\mathrm{BPM}$. Starting with roughly $\\tau=225~\\mathrm{BPM}$, the tempo slightly increases over time. Interestingly, because of the weak downbeats every third beat within the 3/4 meter, the tempogram $\\mathcal{T}^\\mathrm{F}$ also shows some larger coefficients that correspond to $1/3$ and $2/3$ of the main tempo."
   ]
  },
  {
   "cell_type": "markdown",
   "metadata": {},
   "source": [
    "Below is a Single function that computes the novelty function and tempogram and displays these."
   ]
  },
  {
   "cell_type": "code",
   "execution_count": null,
   "metadata": {},
   "outputs": [],
   "source": [
    "from ipywidgets import interact, fixed, FloatSlider, Select\n",
    "\n",
    "def plot_novelty_fn_and_tempogram(x, Fs, start_time, dur):\n",
    "    \"\"\"\n",
    "    start_time = start time for analysis in seconds\n",
    "    dur = duration for analysis in seconds\n",
    "    \"\"\"\n",
    "    x = x[int(start_time*Fs) : int((start_time+dur)*Fs)]\n",
    "    nov, Fs_nov = libfmp.c6.compute_novelty_spectrum(x, Fs=Fs, N=2048, H=512, gamma=100, M=10, norm=True)\n",
    "    nov, Fs_nov = libfmp.c6.resample_signal(nov, Fs_in=Fs_nov, Fs_out=100)\n",
    "\n",
    "    N = 500 #corresponding to 5 seconds (Fs_nov = 100)\n",
    "    H = 10\n",
    "    Theta = np.arange(30, 601)\n",
    "    X, T_coef, F_coef_BPM = compute_tempogram_fourier(nov, Fs_nov, N=N, H=H, Theta=Theta)\n",
    "    tempogram = np.abs(X)\n",
    "\n",
    "    fig, ax = plt.subplots(2, 2, gridspec_kw={'width_ratios': [1, 0.02], \n",
    "                                              'height_ratios': [1, 2]}, figsize=(8,5))        \n",
    "    libfmp.b.plot_signal(nov, Fs_nov, ax=ax[0,0], color='k', title='Novelty function')\n",
    "    ax[0,1].set_axis_off()\n",
    "    libfmp.b.plot_matrix(tempogram, T_coef=T_coef, F_coef=F_coef_BPM, ax=[ax[1,0], ax[1,1]], \n",
    "                         title='Fourier tempogram', ylabel='Tempo (BPM)', colorbar=True);\n",
    "    plt.tight_layout()"
   ]
  },
  {
   "cell_type": "markdown",
   "metadata": {},
   "source": [
    "Let's experiment with different input wav files (also using a slider to select segments)."
   ]
  },
  {
   "cell_type": "code",
   "execution_count": null,
   "metadata": {},
   "outputs": [],
   "source": [
    "fn_wav = os.path.join('.', 'audios_GB_Bhim_snip.wav')\n",
    "Fs = 22050\n",
    "x, Fs = librosa.load(fn_wav, Fs) \n",
    "print(f\"sample rate = {Fs}\")\n",
    "print(f\"x.shape = {x.shape}\")\n",
    "print(f\"duration = {x.shape[0] / Fs:.2f} s\")\n",
    "ipd.Audio(data=x, rate=Fs)"
   ]
  },
  {
   "cell_type": "code",
   "execution_count": null,
   "metadata": {},
   "outputs": [],
   "source": [
    "plot_novelty_fn_and_tempogram(x, Fs, start_time=0, dur=len(x)/Fs)"
   ]
  },
  {
   "cell_type": "code",
   "execution_count": null,
   "metadata": {},
   "outputs": [],
   "source": [
    "interact(\n",
    "    plot_novelty_fn_and_tempogram,\n",
    "    start_time=FloatSlider(\n",
    "        min=0, max=(len(x))/Fs, step=0.1, \n",
    "        continuous_update=False, value=0, description='Start time (s)'\n",
    "    ),\n",
    "    dur=Select(options = [6, 10, 15, 20], description='Duration (s)', value=10),\n",
    "    x=fixed(x), Fs=fixed(Fs));"
   ]
  },
  {
   "cell_type": "code",
   "execution_count": null,
   "metadata": {},
   "outputs": [],
   "source": [
    "fn_wav = os.path.join('.', 'audios_NG_tabla_snip.wav')\n",
    "Fs = 22050\n",
    "x, Fs = librosa.load(fn_wav, Fs) \n",
    "print(f\"sample rate = {Fs}\")\n",
    "print(f\"x.shape = {x.shape}\")\n",
    "print(f\"duration = {x.shape[0] / Fs:.2f} s\")\n",
    "ipd.Audio(data=x, rate=Fs)"
   ]
  },
  {
   "cell_type": "code",
   "execution_count": null,
   "metadata": {},
   "outputs": [],
   "source": [
    "plot_novelty_fn_and_tempogram(x, Fs, start_time=0, dur=len(x)/Fs)"
   ]
  },
  {
   "cell_type": "code",
   "execution_count": null,
   "metadata": {},
   "outputs": [],
   "source": [
    "interact(\n",
    "    plot_novelty_fn_and_tempogram,\n",
    "    start_time=FloatSlider(\n",
    "        min=0, max=(len(x))/Fs, step=0.1, \n",
    "        continuous_update=False, value=0, description='Start time (s)'\n",
    "    ),\n",
    "    dur=Select(options = [6, 10, 15, 20], description='Duration (s)', value=10),\n",
    "    x=fixed(x), Fs=fixed(Fs));"
   ]
  },
  {
   "cell_type": "markdown",
   "metadata": {},
   "source": [
    "<div class=\"alert\" style=\"background-color:#F5F5F5; border-color:#C8C8C8\">\n",
    "<strong>Acknowledgment:</strong> This notebook was created by <a href=\"https://www.audiolabs-erlangen.de/fau/professor/mueller\">Meinard Müller</a>.\n",
    "</div> "
   ]
  },
  {
   "cell_type": "markdown",
   "metadata": {},
   "source": [
    "<table style=\"border:none\">\n",
    "<tr style=\"border:none\">\n",
    "    <td style=\"min-width:50px; border:none\" bgcolor=\"white\"><a href=\"../C0/C0.html\"><img src=\"../data/C0_nav.png\" style=\"height:50px\" alt=\"C0\"></a></td>\n",
    "    <td style=\"min-width:50px; border:none\" bgcolor=\"white\"><a href=\"../C1/C1.html\"><img src=\"../data/C1_nav.png\" style=\"height:50px\" alt=\"C1\"></a></td>\n",
    "    <td style=\"min-width:50px; border:none\" bgcolor=\"white\"><a href=\"../C2/C2.html\"><img src=\"../data/C2_nav.png\" style=\"height:50px\" alt=\"C2\"></a></td>\n",
    "    <td style=\"min-width:50px; border:none\" bgcolor=\"white\"><a href=\"../C3/C3.html\"><img src=\"../data/C3_nav.png\" style=\"height:50px\" alt=\"C3\"></a></td>\n",
    "    <td style=\"min-width:50px; border:none\" bgcolor=\"white\"><a href=\"../C4/C4.html\"><img src=\"../data/C4_nav.png\" style=\"height:50px\" alt=\"C4\"></a></td>\n",
    "    <td style=\"min-width:50px; border:none\" bgcolor=\"white\"><a href=\"../C5/C5.html\"><img src=\"../data/C5_nav.png\" style=\"height:50px\" alt=\"C5\"></a></td>\n",
    "    <td style=\"min-width:50px; border:none\" bgcolor=\"white\"><a href=\"../C6/C6.html\"><img src=\"../data/C6_nav.png\" style=\"height:50px\" alt=\"C6\"></a></td>\n",
    "    <td style=\"min-width:50px; border:none\" bgcolor=\"white\"><a href=\"../C7/C7.html\"><img src=\"../data/C7_nav.png\" style=\"height:50px\" alt=\"C7\"></a></td>\n",
    "    <td style=\"min-width:50px; border:none\" bgcolor=\"white\"><a href=\"../C8/C8.html\"><img src=\"../data/C8_nav.png\" style=\"height:50px\" alt=\"C8\"></a></td>\n",
    "</tr>\n",
    "</table>"
   ]
  }
 ],
 "metadata": {
  "anaconda-cloud": {},
  "kernelspec": {
   "display_name": "Python 3",
   "language": "python",
   "name": "python3"
  },
  "language_info": {
   "codemirror_mode": {
    "name": "ipython",
    "version": 3
   },
   "file_extension": ".py",
   "mimetype": "text/x-python",
   "name": "python",
   "nbconvert_exporter": "python",
   "pygments_lexer": "ipython3",
   "version": "3.7.16"
  }
 },
 "nbformat": 4,
 "nbformat_minor": 4
}
